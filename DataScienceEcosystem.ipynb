{
 "cells": [
  {
   "cell_type": "markdown",
   "id": "6cb3ea20-716d-4d72-bfe8-c8baff5d4ad0",
   "metadata": {},
   "source": [
    "# Data Science Tools and Ecosystem"
   ]
  },
  {
   "cell_type": "code",
   "execution_count": null,
   "id": "9d012b23-893f-45be-bdf8-38c05dfe9409",
   "metadata": {},
   "outputs": [],
   "source": []
  },
  {
   "cell_type": "markdown",
   "id": "b76f41fb-5744-4429-b017-b1cdbcc91ea4",
   "metadata": {},
   "source": [
    "# In this notebook, Data Science Tools and Ecosystem are summarized."
   ]
  },
  {
   "cell_type": "markdown",
   "id": "b7eabe60-e00b-425f-8f18-ad0b59153821",
   "metadata": {},
   "source": [
    "# Some of the popular languages that Data Scientists use are:\n",
    "**Objectives:**\n",
    "\n",
    "* List popular languages for Data Science.\n",
    "* Introduce basic Python syntax and data structures.\n",
    "* Demonstrate data analysis with Pandas.\n",
    "* Explore data visualization with Matplotlib.\n",
    "* Build a simple machine learning model with Scikit-learn.\n",
    "* \n",
    "1. **Python:** Known for its readability and a vast ecosystem of libraries like NumPy, Pandas, Matplotlib, and Scikit-learn.\n",
    "2. **R:** A statistical programming language specifically designed for data analysis and visualization.\n",
    "3. **SQL:** Essential for working with relational databases and data extraction.\n",
    "4. **Julia:** A high-performance language for numerical computing and machine learning."
   ]
  },
  {
   "cell_type": "code",
   "execution_count": null,
   "id": "e4286d87-8a64-4754-815b-447ece3ceaf5",
   "metadata": {},
   "outputs": [],
   "source": []
  },
  {
   "cell_type": "markdown",
   "id": "5e016ff8-6b74-41ce-87fd-335a16aac947",
   "metadata": {},
   "source": [
    "\n",
    "# Some of the commonly used libraries used by Data Scientists include:\n",
    "\n",
    "1. NumPy: A library for numerical computing in Python.\n",
    "2. Pandas: A library for data manipulation and analysis.\n",
    "3. Matplotlib: A plotting library for creating visualizations in Python.\n",
    "4. Scikit-learn: A machine learning library for Python.\n",
    "5. TensorFlow: A library for machine learning and deep learning in Python.\n",
    "6. PyTorch: Another library for machine learning and deep learning in Python."
   ]
  },
  {
   "cell_type": "markdown",
   "id": "dc718451-d1d3-4f72-a44e-c46d086fc4fe",
   "metadata": {},
   "source": [
    "# Data Science Tools\n",
    "| Data Science Tool | Category | Description | \n",
    "|---|---|---|\n",
    "| **Python** | Programming Language | General-purpose language widely used for data analysis and machine learning |\n",
    "| **R** | Programming Language | Statistical analysis and data visualization focused |\n",
    "| **Jupyter Notebook** | Development Environment | Interactive notebook for code execution and data exploration |\n",
    "| **Pandas** | Python Library | Data manipulation and analysis |\n",
    "| **NumPy** | Python Library | Numerical computing | \n",
    "| **Scikit-learn** | Python Library | Machine learning algorithms | \n",
    "| **Matplotlib** | Python Library | Data visualization | \n",
    "| **Seaborn** | Python Library | Statistical data visualization | \n",
    "| **TensorFlow** | Machine Learning Framework | Large-scale numerical computation for deep learning | \n",
    "| **PyTorch** | Machine Learning Framework | Flexible deep learning framework | \n",
    "| **SQL** | Database Query Language | Accessing and manipulating data in relational databases | \n",
    "| **Spark** | Big Data Processing | Distributed computing for large datasets | \n",
    "| **Tableau** | Data Visualization Tool | Drag-and-drop interface for creating interactive visualizations |\n",
    "| **Power BI** | Data Visualization Tool | Business intelligence tool for data exploration and reporting | \n",
    "\n",
    "\n",
    "\n",
    "\n"
   ]
  },
  {
   "cell_type": "markdown",
   "id": "6dfa2957-f644-4328-8bfb-17cc0e4b4597",
   "metadata": {},
   "source": [
    "### Below are a few examples of evaluating arithmetic expressions in Python\n",
    "\n"
   ]
  },
  {
   "cell_type": "code",
   "execution_count": 4,
   "id": "30d7b9f6-81d4-46ae-ad14-9d3620465c51",
   "metadata": {},
   "outputs": [
    {
     "data": {
      "text/plain": [
       "17"
      ]
     },
     "execution_count": 4,
     "metadata": {},
     "output_type": "execute_result"
    }
   ],
   "source": [
    "(3*4)+5\n",
    "\n",
    "# This a simple arithmetic expression to mutiply then add integers"
   ]
  },
  {
   "cell_type": "code",
   "execution_count": 5,
   "id": "1f3333f2-ec08-40a7-ab47-e63013a5559a",
   "metadata": {},
   "outputs": [
    {
     "data": {
      "text/plain": [
       "3.3333333333333335"
      ]
     },
     "execution_count": 5,
     "metadata": {},
     "output_type": "execute_result"
    }
   ],
   "source": [
    "200/60\n",
    "\n",
    "# This will convert 200 minutes to hours by diving by 60"
   ]
  },
  {
   "cell_type": "code",
   "execution_count": null,
   "id": "37e7cf99-19d4-4ce2-91d3-09b53826bfb3",
   "metadata": {},
   "outputs": [],
   "source": []
  },
  {
   "cell_type": "markdown",
   "id": "aac842fc-fea1-4c80-8e1c-32149f674723",
   "metadata": {},
   "source": [
    "## Author \n",
    "Juan Felipe Ledesma Arce"
   ]
  },
  {
   "cell_type": "code",
   "execution_count": null,
   "id": "203bd2f0-6a25-4d2b-8754-884270e6e8a7",
   "metadata": {},
   "outputs": [],
   "source": []
  }
 ],
 "metadata": {
  "kernelspec": {
   "display_name": "Python 3 (ipykernel)",
   "language": "python",
   "name": "python3"
  },
  "language_info": {
   "codemirror_mode": {
    "name": "ipython",
    "version": 3
   },
   "file_extension": ".py",
   "mimetype": "text/x-python",
   "name": "python",
   "nbconvert_exporter": "python",
   "pygments_lexer": "ipython3",
   "version": "3.11.9"
  }
 },
 "nbformat": 4,
 "nbformat_minor": 5
}
